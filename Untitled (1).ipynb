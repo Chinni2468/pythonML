{
 "cells": [
  {
   "cell_type": "code",
   "execution_count": 1,
   "id": "6a1a4455-55da-4b31-9010-b0af614c50c3",
   "metadata": {},
   "outputs": [
    {
     "ename": "ModuleNotFoundError",
     "evalue": "No module named 'compute'",
     "output_type": "error",
     "traceback": [
      "\u001b[1;31m---------------------------------------------------------------------------\u001b[0m",
      "\u001b[1;31mModuleNotFoundError\u001b[0m                       Traceback (most recent call last)",
      "Cell \u001b[1;32mIn[1], line 1\u001b[0m\n\u001b[1;32m----> 1\u001b[0m \u001b[38;5;28;01mimport\u001b[39;00m \u001b[38;5;21;01mcompute\u001b[39;00m\n",
      "\u001b[1;31mModuleNotFoundError\u001b[0m: No module named 'compute'"
     ]
    }
   ],
   "source": [
    "import compute"
   ]
  },
  {
   "cell_type": "code",
   "execution_count": 2,
   "id": "a1b95759-0e8d-4e38-b37a-30d1557d065c",
   "metadata": {},
   "outputs": [],
   "source": [
    "import compute"
   ]
  },
  {
   "cell_type": "code",
   "execution_count": 4,
   "id": "2b1acf0f-9a9c-466a-a435-49ddec163a03",
   "metadata": {},
   "outputs": [
    {
     "data": {
      "text/plain": [
       "3.5"
      ]
     },
     "execution_count": 4,
     "metadata": {},
     "output_type": "execute_result"
    }
   ],
   "source": [
    "compute.mean_value(2,3,4,5)"
   ]
  },
  {
   "cell_type": "code",
   "execution_count": null,
   "id": "1d8038c8-c1ad-4ad3-a599-9699d54328c9",
   "metadata": {},
   "outputs": [],
   "source": []
  }
 ],
 "metadata": {
  "kernelspec": {
   "display_name": "Python 3 (ipykernel)",
   "language": "python",
   "name": "python3"
  },
  "language_info": {
   "codemirror_mode": {
    "name": "ipython",
    "version": 3
   },
   "file_extension": ".py",
   "mimetype": "text/x-python",
   "name": "python",
   "nbconvert_exporter": "python",
   "pygments_lexer": "ipython3",
   "version": "3.12.7"
  }
 },
 "nbformat": 4,
 "nbformat_minor": 5
}
