{
 "cells": [
  {
   "cell_type": "code",
   "execution_count": 2,
   "id": "b2fc9b95-2356-4463-9306-70fe36b9fd94",
   "metadata": {},
   "outputs": [],
   "source": [
    "import pandas as pd\n",
    "import numpy as np"
   ]
  },
  {
   "cell_type": "code",
   "execution_count": 3,
   "id": "5ec66793-38b0-4567-843b-ce7baccd898b",
   "metadata": {},
   "outputs": [
    {
     "data": {
      "text/html": [
       "<div>\n",
       "<style scoped>\n",
       "    .dataframe tbody tr th:only-of-type {\n",
       "        vertical-align: middle;\n",
       "    }\n",
       "\n",
       "    .dataframe tbody tr th {\n",
       "        vertical-align: top;\n",
       "    }\n",
       "\n",
       "    .dataframe thead th {\n",
       "        text-align: right;\n",
       "    }\n",
       "</style>\n",
       "<table border=\"1\" class=\"dataframe\">\n",
       "  <thead>\n",
       "    <tr style=\"text-align: right;\">\n",
       "      <th></th>\n",
       "      <th>Univ</th>\n",
       "      <th>SAT</th>\n",
       "      <th>Top10</th>\n",
       "      <th>Accept</th>\n",
       "      <th>SFRatio</th>\n",
       "      <th>Expenses</th>\n",
       "      <th>GradRate</th>\n",
       "    </tr>\n",
       "  </thead>\n",
       "  <tbody>\n",
       "    <tr>\n",
       "      <th>0</th>\n",
       "      <td>Brown</td>\n",
       "      <td>1310</td>\n",
       "      <td>89</td>\n",
       "      <td>22</td>\n",
       "      <td>13</td>\n",
       "      <td>22704</td>\n",
       "      <td>94</td>\n",
       "    </tr>\n",
       "    <tr>\n",
       "      <th>1</th>\n",
       "      <td>CalTech</td>\n",
       "      <td>1415</td>\n",
       "      <td>100</td>\n",
       "      <td>25</td>\n",
       "      <td>6</td>\n",
       "      <td>63575</td>\n",
       "      <td>81</td>\n",
       "    </tr>\n",
       "    <tr>\n",
       "      <th>2</th>\n",
       "      <td>CMU</td>\n",
       "      <td>1260</td>\n",
       "      <td>62</td>\n",
       "      <td>59</td>\n",
       "      <td>9</td>\n",
       "      <td>25026</td>\n",
       "      <td>72</td>\n",
       "    </tr>\n",
       "    <tr>\n",
       "      <th>3</th>\n",
       "      <td>Columbia</td>\n",
       "      <td>1310</td>\n",
       "      <td>76</td>\n",
       "      <td>24</td>\n",
       "      <td>12</td>\n",
       "      <td>31510</td>\n",
       "      <td>88</td>\n",
       "    </tr>\n",
       "    <tr>\n",
       "      <th>4</th>\n",
       "      <td>Cornell</td>\n",
       "      <td>1280</td>\n",
       "      <td>83</td>\n",
       "      <td>33</td>\n",
       "      <td>13</td>\n",
       "      <td>21864</td>\n",
       "      <td>90</td>\n",
       "    </tr>\n",
       "    <tr>\n",
       "      <th>5</th>\n",
       "      <td>Dartmouth</td>\n",
       "      <td>1340</td>\n",
       "      <td>89</td>\n",
       "      <td>23</td>\n",
       "      <td>10</td>\n",
       "      <td>32162</td>\n",
       "      <td>95</td>\n",
       "    </tr>\n",
       "    <tr>\n",
       "      <th>6</th>\n",
       "      <td>Duke</td>\n",
       "      <td>1315</td>\n",
       "      <td>90</td>\n",
       "      <td>30</td>\n",
       "      <td>12</td>\n",
       "      <td>31585</td>\n",
       "      <td>95</td>\n",
       "    </tr>\n",
       "    <tr>\n",
       "      <th>7</th>\n",
       "      <td>Georgetown</td>\n",
       "      <td>1255</td>\n",
       "      <td>74</td>\n",
       "      <td>24</td>\n",
       "      <td>12</td>\n",
       "      <td>20126</td>\n",
       "      <td>92</td>\n",
       "    </tr>\n",
       "    <tr>\n",
       "      <th>8</th>\n",
       "      <td>Harvard</td>\n",
       "      <td>1400</td>\n",
       "      <td>91</td>\n",
       "      <td>14</td>\n",
       "      <td>11</td>\n",
       "      <td>39525</td>\n",
       "      <td>97</td>\n",
       "    </tr>\n",
       "    <tr>\n",
       "      <th>9</th>\n",
       "      <td>JohnsHopkins</td>\n",
       "      <td>1305</td>\n",
       "      <td>75</td>\n",
       "      <td>44</td>\n",
       "      <td>7</td>\n",
       "      <td>58691</td>\n",
       "      <td>87</td>\n",
       "    </tr>\n",
       "    <tr>\n",
       "      <th>10</th>\n",
       "      <td>MIT</td>\n",
       "      <td>1380</td>\n",
       "      <td>94</td>\n",
       "      <td>30</td>\n",
       "      <td>10</td>\n",
       "      <td>34870</td>\n",
       "      <td>91</td>\n",
       "    </tr>\n",
       "    <tr>\n",
       "      <th>11</th>\n",
       "      <td>Northwestern</td>\n",
       "      <td>1260</td>\n",
       "      <td>85</td>\n",
       "      <td>39</td>\n",
       "      <td>11</td>\n",
       "      <td>28052</td>\n",
       "      <td>89</td>\n",
       "    </tr>\n",
       "    <tr>\n",
       "      <th>12</th>\n",
       "      <td>NotreDame</td>\n",
       "      <td>1255</td>\n",
       "      <td>81</td>\n",
       "      <td>42</td>\n",
       "      <td>13</td>\n",
       "      <td>15122</td>\n",
       "      <td>94</td>\n",
       "    </tr>\n",
       "    <tr>\n",
       "      <th>13</th>\n",
       "      <td>PennState</td>\n",
       "      <td>1081</td>\n",
       "      <td>38</td>\n",
       "      <td>54</td>\n",
       "      <td>18</td>\n",
       "      <td>10185</td>\n",
       "      <td>80</td>\n",
       "    </tr>\n",
       "    <tr>\n",
       "      <th>14</th>\n",
       "      <td>Princeton</td>\n",
       "      <td>1375</td>\n",
       "      <td>91</td>\n",
       "      <td>14</td>\n",
       "      <td>8</td>\n",
       "      <td>30220</td>\n",
       "      <td>95</td>\n",
       "    </tr>\n",
       "    <tr>\n",
       "      <th>15</th>\n",
       "      <td>Purdue</td>\n",
       "      <td>1005</td>\n",
       "      <td>28</td>\n",
       "      <td>90</td>\n",
       "      <td>19</td>\n",
       "      <td>9066</td>\n",
       "      <td>69</td>\n",
       "    </tr>\n",
       "    <tr>\n",
       "      <th>16</th>\n",
       "      <td>Stanford</td>\n",
       "      <td>1360</td>\n",
       "      <td>90</td>\n",
       "      <td>20</td>\n",
       "      <td>12</td>\n",
       "      <td>36450</td>\n",
       "      <td>93</td>\n",
       "    </tr>\n",
       "    <tr>\n",
       "      <th>17</th>\n",
       "      <td>TexasA&amp;M</td>\n",
       "      <td>1075</td>\n",
       "      <td>49</td>\n",
       "      <td>67</td>\n",
       "      <td>25</td>\n",
       "      <td>8704</td>\n",
       "      <td>67</td>\n",
       "    </tr>\n",
       "    <tr>\n",
       "      <th>18</th>\n",
       "      <td>UCBerkeley</td>\n",
       "      <td>1240</td>\n",
       "      <td>95</td>\n",
       "      <td>40</td>\n",
       "      <td>17</td>\n",
       "      <td>15140</td>\n",
       "      <td>78</td>\n",
       "    </tr>\n",
       "    <tr>\n",
       "      <th>19</th>\n",
       "      <td>UChicago</td>\n",
       "      <td>1290</td>\n",
       "      <td>75</td>\n",
       "      <td>50</td>\n",
       "      <td>13</td>\n",
       "      <td>38380</td>\n",
       "      <td>87</td>\n",
       "    </tr>\n",
       "    <tr>\n",
       "      <th>20</th>\n",
       "      <td>UMichigan</td>\n",
       "      <td>1180</td>\n",
       "      <td>65</td>\n",
       "      <td>68</td>\n",
       "      <td>16</td>\n",
       "      <td>15470</td>\n",
       "      <td>85</td>\n",
       "    </tr>\n",
       "    <tr>\n",
       "      <th>21</th>\n",
       "      <td>UPenn</td>\n",
       "      <td>1285</td>\n",
       "      <td>80</td>\n",
       "      <td>36</td>\n",
       "      <td>11</td>\n",
       "      <td>27553</td>\n",
       "      <td>90</td>\n",
       "    </tr>\n",
       "    <tr>\n",
       "      <th>22</th>\n",
       "      <td>UVA</td>\n",
       "      <td>1225</td>\n",
       "      <td>77</td>\n",
       "      <td>44</td>\n",
       "      <td>14</td>\n",
       "      <td>13349</td>\n",
       "      <td>92</td>\n",
       "    </tr>\n",
       "    <tr>\n",
       "      <th>23</th>\n",
       "      <td>UWisconsin</td>\n",
       "      <td>1085</td>\n",
       "      <td>40</td>\n",
       "      <td>69</td>\n",
       "      <td>15</td>\n",
       "      <td>11857</td>\n",
       "      <td>71</td>\n",
       "    </tr>\n",
       "    <tr>\n",
       "      <th>24</th>\n",
       "      <td>Yale</td>\n",
       "      <td>1375</td>\n",
       "      <td>95</td>\n",
       "      <td>19</td>\n",
       "      <td>11</td>\n",
       "      <td>43514</td>\n",
       "      <td>96</td>\n",
       "    </tr>\n",
       "  </tbody>\n",
       "</table>\n",
       "</div>"
      ],
      "text/plain": [
       "            Univ   SAT  Top10  Accept  SFRatio  Expenses  GradRate\n",
       "0          Brown  1310     89      22       13     22704        94\n",
       "1        CalTech  1415    100      25        6     63575        81\n",
       "2            CMU  1260     62      59        9     25026        72\n",
       "3       Columbia  1310     76      24       12     31510        88\n",
       "4        Cornell  1280     83      33       13     21864        90\n",
       "5      Dartmouth  1340     89      23       10     32162        95\n",
       "6           Duke  1315     90      30       12     31585        95\n",
       "7     Georgetown  1255     74      24       12     20126        92\n",
       "8        Harvard  1400     91      14       11     39525        97\n",
       "9   JohnsHopkins  1305     75      44        7     58691        87\n",
       "10           MIT  1380     94      30       10     34870        91\n",
       "11  Northwestern  1260     85      39       11     28052        89\n",
       "12     NotreDame  1255     81      42       13     15122        94\n",
       "13     PennState  1081     38      54       18     10185        80\n",
       "14     Princeton  1375     91      14        8     30220        95\n",
       "15        Purdue  1005     28      90       19      9066        69\n",
       "16      Stanford  1360     90      20       12     36450        93\n",
       "17      TexasA&M  1075     49      67       25      8704        67\n",
       "18    UCBerkeley  1240     95      40       17     15140        78\n",
       "19      UChicago  1290     75      50       13     38380        87\n",
       "20     UMichigan  1180     65      68       16     15470        85\n",
       "21         UPenn  1285     80      36       11     27553        90\n",
       "22           UVA  1225     77      44       14     13349        92\n",
       "23    UWisconsin  1085     40      69       15     11857        71\n",
       "24          Yale  1375     95      19       11     43514        96"
      ]
     },
     "execution_count": 3,
     "metadata": {},
     "output_type": "execute_result"
    }
   ],
   "source": [
    "df = pd.read_excel(\"universities.xlsx\")\n",
    "df"
   ]
  },
  {
   "cell_type": "code",
   "execution_count": 4,
   "id": "bad4dde6-ec4e-418a-ac1d-aa29a07762c0",
   "metadata": {},
   "outputs": [
    {
     "data": {
      "text/plain": [
       "8.874773236539623"
      ]
     },
     "execution_count": 4,
     "metadata": {},
     "output_type": "execute_result"
    }
   ],
   "source": [
    "np.std(df[\"GradRate\"])\n"
   ]
  },
  {
   "cell_type": "code",
   "execution_count": 5,
   "id": "2f1abdb9-85da-4660-a6f4-edc7acb8f826",
   "metadata": {},
   "outputs": [
    {
     "data": {
      "text/html": [
       "<div>\n",
       "<style scoped>\n",
       "    .dataframe tbody tr th:only-of-type {\n",
       "        vertical-align: middle;\n",
       "    }\n",
       "\n",
       "    .dataframe tbody tr th {\n",
       "        vertical-align: top;\n",
       "    }\n",
       "\n",
       "    .dataframe thead th {\n",
       "        text-align: right;\n",
       "    }\n",
       "</style>\n",
       "<table border=\"1\" class=\"dataframe\">\n",
       "  <thead>\n",
       "    <tr style=\"text-align: right;\">\n",
       "      <th></th>\n",
       "      <th>SAT</th>\n",
       "      <th>Top10</th>\n",
       "      <th>Accept</th>\n",
       "      <th>SFRatio</th>\n",
       "      <th>Expenses</th>\n",
       "      <th>GradRate</th>\n",
       "    </tr>\n",
       "  </thead>\n",
       "  <tbody>\n",
       "    <tr>\n",
       "      <th>count</th>\n",
       "      <td>25.000000</td>\n",
       "      <td>25.000000</td>\n",
       "      <td>25.000000</td>\n",
       "      <td>25.00000</td>\n",
       "      <td>25.000000</td>\n",
       "      <td>25.000000</td>\n",
       "    </tr>\n",
       "    <tr>\n",
       "      <th>mean</th>\n",
       "      <td>1266.440000</td>\n",
       "      <td>76.480000</td>\n",
       "      <td>39.200000</td>\n",
       "      <td>12.72000</td>\n",
       "      <td>27388.000000</td>\n",
       "      <td>86.720000</td>\n",
       "    </tr>\n",
       "    <tr>\n",
       "      <th>std</th>\n",
       "      <td>108.359771</td>\n",
       "      <td>19.433905</td>\n",
       "      <td>19.727308</td>\n",
       "      <td>4.06735</td>\n",
       "      <td>14424.883165</td>\n",
       "      <td>9.057778</td>\n",
       "    </tr>\n",
       "    <tr>\n",
       "      <th>min</th>\n",
       "      <td>1005.000000</td>\n",
       "      <td>28.000000</td>\n",
       "      <td>14.000000</td>\n",
       "      <td>6.00000</td>\n",
       "      <td>8704.000000</td>\n",
       "      <td>67.000000</td>\n",
       "    </tr>\n",
       "    <tr>\n",
       "      <th>25%</th>\n",
       "      <td>1240.000000</td>\n",
       "      <td>74.000000</td>\n",
       "      <td>24.000000</td>\n",
       "      <td>11.00000</td>\n",
       "      <td>15140.000000</td>\n",
       "      <td>81.000000</td>\n",
       "    </tr>\n",
       "    <tr>\n",
       "      <th>50%</th>\n",
       "      <td>1285.000000</td>\n",
       "      <td>81.000000</td>\n",
       "      <td>36.000000</td>\n",
       "      <td>12.00000</td>\n",
       "      <td>27553.000000</td>\n",
       "      <td>90.000000</td>\n",
       "    </tr>\n",
       "    <tr>\n",
       "      <th>75%</th>\n",
       "      <td>1340.000000</td>\n",
       "      <td>90.000000</td>\n",
       "      <td>50.000000</td>\n",
       "      <td>14.00000</td>\n",
       "      <td>34870.000000</td>\n",
       "      <td>94.000000</td>\n",
       "    </tr>\n",
       "    <tr>\n",
       "      <th>max</th>\n",
       "      <td>1415.000000</td>\n",
       "      <td>100.000000</td>\n",
       "      <td>90.000000</td>\n",
       "      <td>25.00000</td>\n",
       "      <td>63575.000000</td>\n",
       "      <td>97.000000</td>\n",
       "    </tr>\n",
       "  </tbody>\n",
       "</table>\n",
       "</div>"
      ],
      "text/plain": [
       "               SAT       Top10     Accept   SFRatio      Expenses   GradRate\n",
       "count    25.000000   25.000000  25.000000  25.00000     25.000000  25.000000\n",
       "mean   1266.440000   76.480000  39.200000  12.72000  27388.000000  86.720000\n",
       "std     108.359771   19.433905  19.727308   4.06735  14424.883165   9.057778\n",
       "min    1005.000000   28.000000  14.000000   6.00000   8704.000000  67.000000\n",
       "25%    1240.000000   74.000000  24.000000  11.00000  15140.000000  81.000000\n",
       "50%    1285.000000   81.000000  36.000000  12.00000  27553.000000  90.000000\n",
       "75%    1340.000000   90.000000  50.000000  14.00000  34870.000000  94.000000\n",
       "max    1415.000000  100.000000  90.000000  25.00000  63575.000000  97.000000"
      ]
     },
     "execution_count": 5,
     "metadata": {},
     "output_type": "execute_result"
    }
   ],
   "source": [
    "df.describe()"
   ]
  },
  {
   "cell_type": "code",
   "execution_count": 6,
   "id": "62cb424b-9cc9-483e-9bfc-46f660f60261",
   "metadata": {},
   "outputs": [
    {
     "data": {
      "text/plain": [
       "1266.44"
      ]
     },
     "execution_count": 6,
     "metadata": {},
     "output_type": "execute_result"
    }
   ],
   "source": [
    "np.mean(df[\"SAT\"])"
   ]
  },
  {
   "cell_type": "code",
   "execution_count": 7,
   "id": "061277e5-6c18-4ea3-98d4-d5a97362df48",
   "metadata": {},
   "outputs": [
    {
     "data": {
      "text/plain": [
       "15.881599999999999"
      ]
     },
     "execution_count": 7,
     "metadata": {},
     "output_type": "execute_result"
    }
   ],
   "source": [
    "np.var(df[\"SFRatio\"])"
   ]
  },
  {
   "cell_type": "code",
   "execution_count": 8,
   "id": "bbd51805-1841-4a3c-9617-580e18589046",
   "metadata": {},
   "outputs": [],
   "source": [
    "import matplotlib.pyplot as plt\n",
    "import seaborn as sns"
   ]
  },
  {
   "cell_type": "code",
   "execution_count": 9,
   "id": "dc49a911-c21d-47ab-ab38-22fe0b43de16",
   "metadata": {},
   "outputs": [
    {
     "data": {
      "text/plain": [
       "(array([4., 5., 4., 5., 1., 2., 1., 2., 0., 1.]),\n",
       " array([14. , 21.6, 29.2, 36.8, 44.4, 52. , 59.6, 67.2, 74.8, 82.4, 90. ]),\n",
       " <BarContainer object of 10 artists>)"
      ]
     },
     "execution_count": 9,
     "metadata": {},
     "output_type": "execute_result"
    },
    {
     "data": {
      "image/png": "[encoded data removed]",
      "text/plain": [
       "<Figure size 600x300 with 1 Axes>"
      ]
     },
     "metadata": {},
     "output_type": "display_data"
    }
   ],
   "source": [
    "plt.figure(figsize=(6,3))\n",
    "plt.title(\"Acceptance Ratio\")\n",
    "plt.hist(df[\"Accept\"])"
   ]
  },
  {
   "cell_type": "code",
   "execution_count": 10,
   "id": "66556eca-3d30-4736-b7ea-9090b67b9e53",
   "metadata": {},
   "outputs": [
    {
     "data": {
      "text/plain": [
       "<Axes: xlabel='Accept', ylabel='Count'>"
      ]
     },
     "execution_count": 10,
     "metadata": {},
     "output_type": "execute_result"
    },
    {
     "data": {
      "image/png": "[encoded data removed]",
      "text/plain": [
       "<Figure size 640x480 with 1 Axes>"
      ]
     },
     "metadata": {},
     "output_type": "display_data"
    }
   ],
   "source": [
    "sns.histplot(df[\"Accept\"])"
   ]
  },
  {
   "cell_type": "code",
   "execution_count": 11,
   "id": "2223c76f-663a-45a6-b71a-18928010d119",
   "metadata": {},
   "outputs": [
    {
     "data": {
      "text/plain": [
       "<Axes: xlabel='Accept', ylabel='Count'>"
      ]
     },
     "execution_count": 11,
     "metadata": {},
     "output_type": "execute_result"
    },
    {
     "data": {
      "image/png": "[encoded data removed]",
      "text/plain": [
       "<Figure size 640x480 with 1 Axes>"
      ]
     },
     "metadata": {},
     "output_type": "display_data"
    }
   ],
   "source": [
    "sns.histplot(df[\"Accept\"],kde =True)"
   ]
  },
  {
   "cell_type": "markdown",
   "id": "8cc9d0a5-468f-4522-8e09-79f0270c8b17",
   "metadata": {},
   "source": [
    "#### Observations \n",
    ". In acceptance ratio the data distribution is not symmetrical and right skewed."
   ]
  },
  {
   "cell_type": "code",
   "execution_count": 14,
   "id": "28b2fff9-8587-41f3-a584-29cbd620dc9f",
   "metadata": {},
   "outputs": [
    {
     "data": {
      "text/plain": [
       "0    20.0\n",
       "1    15.0\n",
       "2    10.0\n",
       "3    30.0\n",
       "4    40.0\n",
       "5    30.0\n",
       "6    60.0\n",
       "7    50.0\n",
       "8    30.0\n",
       "9    32.2\n",
       "dtype: float64"
      ]
     },
     "execution_count": 14,
     "metadata": {},
     "output_type": "execute_result"
    }
   ],
   "source": [
    "s1=[20,15,10,30,40,30,60,50,30,32.20]\n",
    "scores1 = pd.Series(s1)\n",
    "scores1"
   ]
  },
  {
   "cell_type": "code",
   "execution_count": 15,
   "id": "85524ad1-260e-4dac-94ba-e7e18296ba03",
   "metadata": {},
   "outputs": [
    {
     "data": {
      "text/plain": [
       "{'whiskers': [<matplotlib.lines.Line2D at 0x27417401c40>,\n",
       "  <matplotlib.lines.Line2D at 0x2741be532f0>],\n",
       " 'caps': [<matplotlib.lines.Line2D at 0x2741be53590>,\n",
       "  <matplotlib.lines.Line2D at 0x2741be53890>],\n",
       " 'boxes': [<matplotlib.lines.Line2D at 0x2741be52db0>],\n",
       " 'medians': [<matplotlib.lines.Line2D at 0x2741be53b30>],\n",
       " 'fliers': [<matplotlib.lines.Line2D at 0x2741be53e30>],\n",
       " 'means': []}"
      ]
     },
     "execution_count": 15,
     "metadata": {},
     "output_type": "execute_result"
    },
    {
     "data": {
      "image/png": "[encoded data removed]",
      "text/plain": [
       "<Figure size 640x480 with 1 Axes>"
      ]
     },
     "metadata": {},
     "output_type": "display_data"
    }
   ],
   "source": [
    "plt.boxplot(s1)"
   ]
  },
  {
   "cell_type": "code",
   "execution_count": 17,
   "id": "f4cbe49b-f2c9-4325-bffc-8f092e47c68e",
   "metadata": {},
   "outputs": [
    {
     "data": {
      "text/plain": [
       "{'whiskers': [<matplotlib.lines.Line2D at 0x27417b46540>,\n",
       "  <matplotlib.lines.Line2D at 0x27417b14a10>],\n",
       " 'caps': [<matplotlib.lines.Line2D at 0x27417b07110>,\n",
       "  <matplotlib.lines.Line2D at 0x2741be94290>],\n",
       " 'boxes': [<matplotlib.lines.Line2D at 0x27417b46660>],\n",
       " 'medians': [<matplotlib.lines.Line2D at 0x2741be975c0>],\n",
       " 'fliers': [<matplotlib.lines.Line2D at 0x2741be960c0>],\n",
       " 'means': []}"
      ]
     },
     "execution_count": 17,
     "metadata": {},
     "output_type": "execute_result"
    },
    {
     "data": {
      "image/png": "[encoded data removed]",
      "text/plain": [
       "<Figure size 640x480 with 1 Axes>"
      ]
     },
     "metadata": {},
     "output_type": "display_data"
    }
   ],
   "source": [
    "s1.append(130)\n",
    "plt.boxplot(s1)\n"
   ]
  },
  {
   "cell_type": "code",
   "execution_count": 18,
   "id": "8e29a60a-1590-4955-b8e2-a933129f8569",
   "metadata": {},
   "outputs": [
    {
     "data": {
      "text/plain": [
       "0      20.0\n",
       "1      15.0\n",
       "2      10.0\n",
       "3      30.0\n",
       "4      40.0\n",
       "5      30.0\n",
       "6      60.0\n",
       "7      50.0\n",
       "8      30.0\n",
       "9      32.2\n",
       "10    130.0\n",
       "11    130.0\n",
       "dtype: float64"
      ]
     },
     "execution_count": 18,
     "metadata": {},
     "output_type": "execute_result"
    }
   ],
   "source": [
    "s2=[0,5,6,8,12,14,16,110,120]\n",
    "scores1=pd.Series(s1)\n",
    "scores1"
   ]
  },
  {
   "cell_type": "code",
   "execution_count": 19,
   "id": "6c086709-bb33-498e-b485-b71fe46dd04e",
   "metadata": {},
   "outputs": [
    {
     "data": {
      "text/plain": [
       "{'whiskers': [<matplotlib.lines.Line2D at 0x2741c02f8c0>,\n",
       "  <matplotlib.lines.Line2D at 0x2741c02fa70>],\n",
       " 'caps': [<matplotlib.lines.Line2D at 0x2741c02fd40>,\n",
       "  <matplotlib.lines.Line2D at 0x2741c04c050>],\n",
       " 'boxes': [<matplotlib.lines.Line2D at 0x2741c02f650>],\n",
       " 'medians': [<matplotlib.lines.Line2D at 0x2741c04c2c0>],\n",
       " 'fliers': [<matplotlib.lines.Line2D at 0x2741c04c590>],\n",
       " 'means': []}"
      ]
     },
     "execution_count": 19,
     "metadata": {},
     "output_type": "execute_result"
    },
    {
     "data": {
      "image/png": "[encoded data removed]",
      "text/plain": [
       "<Figure size 640x480 with 1 Axes>"
      ]
     },
     "metadata": {},
     "output_type": "display_data"
    }
   ],
   "source": [
    "plt.boxplot(s2)\n"
   ]
  },
  {
   "cell_type": "code",
   "execution_count": 21,
   "id": "a05ec067-9084-499d-ad5f-56fa219bbf8e",
   "metadata": {},
   "outputs": [
    {
     "data": {
      "text/plain": [
       "{'whiskers': [<matplotlib.lines.Line2D at 0x2741c089f40>,\n",
       "  <matplotlib.lines.Line2D at 0x2741c08a210>],\n",
       " 'caps': [<matplotlib.lines.Line2D at 0x2741c01ade0>,\n",
       "  <matplotlib.lines.Line2D at 0x2741c08a690>],\n",
       " 'boxes': [<matplotlib.lines.Line2D at 0x2741c089ca0>],\n",
       " 'medians': [<matplotlib.lines.Line2D at 0x2741c08a930>],\n",
       " 'fliers': [<matplotlib.lines.Line2D at 0x2741c08ac00>],\n",
       " 'means': []}"
      ]
     },
     "execution_count": 21,
     "metadata": {},
     "output_type": "execute_result"
    },
    {
     "data": {
      "image/png": "[encoded data removed]",
      "text/plain": [
       "<Figure size 640x480 with 1 Axes>"
      ]
     },
     "metadata": {},
     "output_type": "display_data"
    }
   ],
   "source": [
    "plt.boxplot(df.SAT)"
   ]
  },
  {
   "cell_type": "code",
   "execution_count": 22,
   "id": "8c923e55-3070-47ae-b188-1706c3128b68",
   "metadata": {},
   "outputs": [
    {
     "data": {
      "text/plain": [
       "{'whiskers': [<matplotlib.lines.Line2D at 0x2741bebbf50>,\n",
       "  <matplotlib.lines.Line2D at 0x2741c01a7b0>],\n",
       " 'caps': [<matplotlib.lines.Line2D at 0x2741bee8380>,\n",
       "  <matplotlib.lines.Line2D at 0x2741bee8650>],\n",
       " 'boxes': [<matplotlib.lines.Line2D at 0x2741bebbb00>],\n",
       " 'medians': [<matplotlib.lines.Line2D at 0x2741bee8920>],\n",
       " 'fliers': [<matplotlib.lines.Line2D at 0x2741bee8b90>],\n",
       " 'means': []}"
      ]
     },
     "execution_count": 22,
     "metadata": {},
     "output_type": "execute_result"
    },
    {
     "data": {
      "image/png": "[encoded data removed]",
      "text/plain": [
       "<Figure size 640x480 with 1 Axes>"
      ]
     },
     "metadata": {},
     "output_type": "display_data"
    }
   ],
   "source": [
    "plt.boxplot(df.Top10)"
   ]
  },
  {
   "cell_type": "code",
   "execution_count": 23,
   "id": "b4f0a41e-c5f3-4cdf-8bb9-ca9e6e223f5b",
   "metadata": {},
   "outputs": [
    {
     "data": {
      "text/plain": [
       "{'whiskers': [<matplotlib.lines.Line2D at 0x2741bf1f8c0>,\n",
       "  <matplotlib.lines.Line2D at 0x2741bea1190>],\n",
       " 'caps': [<matplotlib.lines.Line2D at 0x2741bf1e210>,\n",
       "  <matplotlib.lines.Line2D at 0x2741bf1fa70>],\n",
       " 'boxes': [<matplotlib.lines.Line2D at 0x2741bf1f680>],\n",
       " 'medians': [<matplotlib.lines.Line2D at 0x2741bf1fce0>],\n",
       " 'fliers': [<matplotlib.lines.Line2D at 0x2741bf1ff80>],\n",
       " 'means': []}"
      ]
     },
     "execution_count": 23,
     "metadata": {},
     "output_type": "execute_result"
    },
    {
     "data": {
      "image/png": "[encoded data removed]",
      "text/plain": [
       "<Figure size 640x480 with 1 Axes>"
      ]
     },
     "metadata": {},
     "output_type": "display_data"
    }
   ],
   "source": [
    "plt.boxplot(df.Accept)"
   ]
  },
  {
   "cell_type": "code",
   "execution_count": 24,
   "id": "029f2946-bf65-4804-a3ac-a8f3f0e5471d",
   "metadata": {},
   "outputs": [
    {
     "data": {
      "text/plain": [
       "{'whiskers': [<matplotlib.lines.Line2D at 0x2741bf9a930>,\n",
       "  <matplotlib.lines.Line2D at 0x2741bf9ab70>],\n",
       " 'caps': [<matplotlib.lines.Line2D at 0x2741bf9ae40>,\n",
       "  <matplotlib.lines.Line2D at 0x2741bf9b140>],\n",
       " 'boxes': [<matplotlib.lines.Line2D at 0x2741bf9a6c0>],\n",
       " 'medians': [<matplotlib.lines.Line2D at 0x2741bf9b3e0>],\n",
       " 'fliers': [<matplotlib.lines.Line2D at 0x2741bf9b650>],\n",
       " 'means': []}"
      ]
     },
     "execution_count": 24,
     "metadata": {},
     "output_type": "execute_result"
    },
    {
     "data": {
      "image/png": "[encoded data removed]",
      "text/plain": [
       "<Figure size 640x480 with 1 Axes>"
      ]
     },
     "metadata": {},
     "output_type": "display_data"
    }
   ],
   "source": [
    "plt.boxplot(df.SFRatio)"
   ]
  },
  {
   "cell_type": "code",
   "execution_count": 25,
   "id": "acbb90e8-1850-471b-b326-affca9d97bb8",
   "metadata": {},
   "outputs": [
    {
     "data": {
      "text/plain": [
       "{'whiskers': [<matplotlib.lines.Line2D at 0x2741c139970>,\n",
       "  <matplotlib.lines.Line2D at 0x2741c139c10>],\n",
       " 'caps': [<matplotlib.lines.Line2D at 0x2741c139e80>,\n",
       "  <matplotlib.lines.Line2D at 0x2741c13a0f0>],\n",
       " 'boxes': [<matplotlib.lines.Line2D at 0x2741c139850>],\n",
       " 'medians': [<matplotlib.lines.Line2D at 0x2741c13a3c0>],\n",
       " 'fliers': [<matplotlib.lines.Line2D at 0x2741c13a630>],\n",
       " 'means': []}"
      ]
     },
     "execution_count": 25,
     "metadata": {},
     "output_type": "execute_result"
    },
    {
     "data": {
      "image/png": "[encoded data removed]",
      "text/plain": [
       "<Figure size 640x480 with 1 Axes>"
      ]
     },
     "metadata": {},
     "output_type": "display_data"
    }
   ],
   "source": [
    "plt.boxplot(df.Expenses)"
   ]
  },
  {
   "cell_type": "code",
   "execution_count": 26,
   "id": "c6e0ce8c-af6d-4702-93f9-a6821b393406",
   "metadata": {},
   "outputs": [
    {
     "data": {
      "text/plain": [
       "{'whiskers': [<matplotlib.lines.Line2D at 0x2741c187a10>,\n",
       "  <matplotlib.lines.Line2D at 0x2741c187ce0>],\n",
       " 'caps': [<matplotlib.lines.Line2D at 0x2741c187f50>,\n",
       "  <matplotlib.lines.Line2D at 0x2741c1bc200>],\n",
       " 'boxes': [<matplotlib.lines.Line2D at 0x2741c187890>],\n",
       " 'medians': [<matplotlib.lines.Line2D at 0x2741c1bc470>],\n",
       " 'fliers': [<matplotlib.lines.Line2D at 0x2741c1bc770>],\n",
       " 'means': []}"
      ]
     },
     "execution_count": 26,
     "metadata": {},
     "output_type": "execute_result"
    },
    {
     "data": {
      "image/png": "[encoded data removed]",
      "text/plain": [
       "<Figure size 640x480 with 1 Axes>"
      ]
     },
     "metadata": {},
     "output_type": "display_data"
    }
   ],
   "source": [
    "plt.boxplot(df.GradRate)"
   ]
  },
  {
   "cell_type": "code",
   "execution_count": null,
   "id": "32e98539-fe5a-4e77-8420-a3e8960f5706",
   "metadata": {},
   "outputs": [],
   "source": []
  }
 ],
 "metadata": {
  "kernelspec": {
   "display_name": "Python 3 (ipykernel)",
   "language": "python",
   "name": "python3"
  },
  "language_info": {
   "codemirror_mode": {
    "name": "ipython",
    "version": 3
   },
   "file_extension": ".py",
   "mimetype": "text/x-python",
   "name": "python",
   "nbconvert_exporter": "python",
   "pygments_lexer": "ipython3",
   "version": "3.12.7"
  }
 },
 "nbformat": 4,
 "nbformat_minor": 5
}
