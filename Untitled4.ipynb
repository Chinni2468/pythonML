{
 "cells": [
  {
   "cell_type": "code",
   "execution_count": 1,
   "id": "eb7d2eb8-601a-400f-b28d-95f73d53097b",
   "metadata": {},
   "outputs": [],
   "source": [
    "import numpy as np"
   ]
  },
  {
   "cell_type": "code",
   "execution_count": 2,
   "id": "ad64ee7f-9043-4de7-b342-d5be60c2c130",
   "metadata": {},
   "outputs": [
    {
     "name": "stdout",
     "output_type": "stream",
     "text": [
      "['40' '57' '67' '90' 'A']\n",
      "<class 'numpy.ndarray'>\n",
      "<U11\n"
     ]
    }
   ],
   "source": [
    "x = np.array([40,57,67,90,\"A\"])\n",
    "print(x)\n",
    "print(type(x))\n",
    "print(x.dtype)"
   ]
  },
  {
   "cell_type": "code",
   "execution_count": 3,
   "id": "067d5e55-e67a-43b0-b6cf-1b3916d5e311",
   "metadata": {},
   "outputs": [
    {
     "name": "stdout",
     "output_type": "stream",
     "text": [
      "[[20 40]\n",
      " [30 60]]\n",
      "<class 'numpy.ndarray'>\n",
      "(2, 2)\n"
     ]
    }
   ],
   "source": [
    "#create a 2D array\n",
    "a2 = np.array([[20,40],[30,60]])\n",
    "print(a2)\n",
    "print(type(a2))\n",
    "print(a2.shape)"
   ]
  },
  {
   "cell_type": "code",
   "execution_count": 4,
   "id": "0e881bb9-ce1f-4a00-b538-23aa55948253",
   "metadata": {},
   "outputs": [
    {
     "name": "stdout",
     "output_type": "stream",
     "text": [
      "[[10 20]\n",
      " [30 40]]\n",
      "(2, 2)\n"
     ]
    }
   ],
   "source": [
    "a = np.array([10,20,30,40])\n",
    "b = a.reshape(2,2)\n",
    "print(b)\n",
    "print(b.shape)"
   ]
  },
  {
   "cell_type": "code",
   "execution_count": 5,
   "id": "3be0bd2b-6318-45fb-b0b4-cddc7279b40b",
   "metadata": {},
   "outputs": [
    {
     "name": "stdout",
     "output_type": "stream",
     "text": [
      "[ 3  4  5  6  7  8  9 10 11 12 13 14 15 16 17 18 19 20 21 22 23 24 25 26\n",
      " 27]\n"
     ]
    },
    {
     "data": {
      "text/plain": [
       "numpy.ndarray"
      ]
     },
     "execution_count": 5,
     "metadata": {},
     "output_type": "execute_result"
    }
   ],
   "source": [
    "#create an array with arange\n",
    "c = np.arange(3,28)\n",
    "print(c)\n",
    "type(c)"
   ]
  },
  {
   "cell_type": "code",
   "execution_count": 6,
   "id": "fb3730d0-74d3-45f3-a07e-ac8473ed7bca",
   "metadata": {},
   "outputs": [
    {
     "name": "stdout",
     "output_type": "stream",
     "text": [
      "[1.16 1.82 2.22]\n"
     ]
    }
   ],
   "source": [
    "# use of around\n",
    "d = np.array([1.347,3.30987,4.91236])\n",
    "print(np.around(np.sqrt(d),2))"
   ]
  },
  {
   "cell_type": "code",
   "execution_count": 10,
   "id": "607cf55b-29fd-40ea-9d97-2bee3184ed25",
   "metadata": {},
   "outputs": [
    {
     "name": "stdout",
     "output_type": "stream",
     "text": [
      "[[ 3.  4.  5.  6.]\n",
      " [ 7.  2.  8. nan]]\n"
     ]
    }
   ],
   "source": [
    "# use astype() to convert\n",
    "a1 = np.array([[3,4,5,6],[7,2,8,np.NAN]])\n",
    "print(a1)\n"
   ]
  },
  {
   "cell_type": "code",
   "execution_count": 11,
   "id": "36cdeb83-f33a-45e1-919e-97a9e94f186d",
   "metadata": {},
   "outputs": [
    {
     "data": {
      "text/plain": [
       "array([[ 3,  4,  6],\n",
       "       [ 7,  9, 10],\n",
       "       [ 4,  6, 12]])"
      ]
     },
     "execution_count": 11,
     "metadata": {},
     "output_type": "execute_result"
    }
   ],
   "source": [
    "#matthematical operation on rows\n",
    "a2 = np.array([[3,4,6],[7,9,10],[4,6,12]])\n",
    "a2"
   ]
  },
  {
   "cell_type": "code",
   "execution_count": 12,
   "id": "416124ee-ba4d-4a68-a693-bd70ccc22bca",
   "metadata": {},
   "outputs": [
    {
     "name": "stdout",
     "output_type": "stream",
     "text": [
      "[['3.0' '4.0' '5.0' '6.0']\n",
      " ['7.0' '2.0' '8.0' 'nan']]\n"
     ]
    }
   ],
   "source": [
    "a1_copy1 = a1.astype(str)\n",
    "print(a1_copy1)"
   ]
  },
  {
   "cell_type": "code",
   "execution_count": 13,
   "id": "8741cc02-613f-4c5a-9fcf-06c5a15572f9",
   "metadata": {},
   "outputs": [
    {
     "name": "stdout",
     "output_type": "stream",
     "text": [
      "[13 26 22]\n",
      "[14 19 28]\n"
     ]
    }
   ],
   "source": [
    "print(a2.sum(axis = 1))\n",
    "print(a2.sum(axis = 0))\n",
    "      "
   ]
  },
  {
   "cell_type": "code",
   "execution_count": 16,
   "id": "c6c9ac91-d998-44f9-b07a-3d4da8593aa1",
   "metadata": {},
   "outputs": [
    {
     "name": "stdout",
     "output_type": "stream",
     "text": [
      "[[ 3  4  6]\n",
      " [ 7  9 10]\n",
      " [ 4  6 12]]\n",
      "[4.33333333 8.66666667 7.33333333]\n",
      "[4.66666667 6.33333333 9.33333333]\n"
     ]
    }
   ],
   "source": [
    "#find the mean values along row and col\n",
    "print(a2)\n",
    "print(np.mean(a2,axis = 1))\n",
    "print(np.mean(a2,axis = 0))"
   ]
  },
  {
   "cell_type": "code",
   "execution_count": 17,
   "id": "f426ad9e-5c2b-472b-877c-5c4eee5dbc4d",
   "metadata": {},
   "outputs": [
    {
     "name": "stdout",
     "output_type": "stream",
     "text": [
      "[[3 4 5]\n",
      " [7 2 8]\n",
      " [9 1 6]]\n",
      "[[0 4 5]\n",
      " [7 0 8]\n",
      " [9 1 0]]\n"
     ]
    }
   ],
   "source": [
    "#matrix operations\n",
    "a3 = np.array([[3,4,5],[7,2,8],[9,1,6]])\n",
    "print(a3)\n",
    "np.fill_diagonal(a3,0)\n",
    "print(a3)"
   ]
  },
  {
   "cell_type": "code",
   "execution_count": 21,
   "id": "1aab6862-5121-45c1-bafb-a8f62aa0762b",
   "metadata": {},
   "outputs": [
    {
     "ename": "AttributeError",
     "evalue": "module 'numpy' has no attribute 'matnull'",
     "output_type": "error",
     "traceback": [
      "\u001b[1;31m---------------------------------------------------------------------------\u001b[0m",
      "\u001b[1;31mAttributeError\u001b[0m                            Traceback (most recent call last)",
      "Cell \u001b[1;32mIn[21], line 4\u001b[0m\n\u001b[0;32m      2\u001b[0m A \u001b[38;5;241m=\u001b[39m np\u001b[38;5;241m.\u001b[39marray([[\u001b[38;5;241m1\u001b[39m,\u001b[38;5;241m2\u001b[39m],[\u001b[38;5;241m3\u001b[39m,\u001b[38;5;241m4\u001b[39m]])\n\u001b[0;32m      3\u001b[0m B \u001b[38;5;241m=\u001b[39m np\u001b[38;5;241m.\u001b[39marray([[\u001b[38;5;241m4\u001b[39m,\u001b[38;5;241m5\u001b[39m],[\u001b[38;5;241m7\u001b[39m,\u001b[38;5;241m6\u001b[39m]])\n\u001b[1;32m----> 4\u001b[0m C \u001b[38;5;241m=\u001b[39m np\u001b[38;5;241m.\u001b[39mmatnull( A \u001b[38;5;241m*\u001b[39m B )\n\u001b[0;32m      5\u001b[0m \u001b[38;5;28mprint\u001b[39m(C)\n",
      "File \u001b[1;32m~\\anaconda3\\Lib\\site-packages\\numpy\\__init__.py:333\u001b[0m, in \u001b[0;36m__getattr__\u001b[1;34m(attr)\u001b[0m\n\u001b[0;32m    330\u001b[0m     \u001b[38;5;124m\"\u001b[39m\u001b[38;5;124mRemoved in NumPy 1.25.0\u001b[39m\u001b[38;5;124m\"\u001b[39m\n\u001b[0;32m    331\u001b[0m     \u001b[38;5;28;01mraise\u001b[39;00m \u001b[38;5;167;01mRuntimeError\u001b[39;00m(\u001b[38;5;124m\"\u001b[39m\u001b[38;5;124mTester was removed in NumPy 1.25.\u001b[39m\u001b[38;5;124m\"\u001b[39m)\n\u001b[1;32m--> 333\u001b[0m \u001b[38;5;28;01mraise\u001b[39;00m \u001b[38;5;167;01mAttributeError\u001b[39;00m(\u001b[38;5;124m\"\u001b[39m\u001b[38;5;124mmodule \u001b[39m\u001b[38;5;132;01m{!r}\u001b[39;00m\u001b[38;5;124m has no attribute \u001b[39m\u001b[38;5;124m\"\u001b[39m\n\u001b[0;32m    334\u001b[0m                      \u001b[38;5;124m\"\u001b[39m\u001b[38;5;132;01m{!r}\u001b[39;00m\u001b[38;5;124m\"\u001b[39m\u001b[38;5;241m.\u001b[39mformat(\u001b[38;5;18m__name__\u001b[39m, attr))\n",
      "\u001b[1;31mAttributeError\u001b[0m: module 'numpy' has no attribute 'matnull'"
     ]
    }
   ],
   "source": [
    "#define two martices and multiply them\n",
    "A = np.array([[1,2],[3,4]])\n",
    "B = np.array([[4,5],[7,6]])\n",
    "C = np.matnull( A * B )\n",
    "print(C)"
   ]
  },
  {
   "cell_type": "code",
   "execution_count": 20,
   "id": "5648f55d-ca42-4cc7-a657-d58a974e9549",
   "metadata": {},
   "outputs": [
    {
     "ename": "NameError",
     "evalue": "name 'T' is not defined",
     "output_type": "error",
     "traceback": [
      "\u001b[1;31m---------------------------------------------------------------------------\u001b[0m",
      "\u001b[1;31mNameError\u001b[0m                                 Traceback (most recent call last)",
      "Cell \u001b[1;32mIn[20], line 1\u001b[0m\n\u001b[1;32m----> 1\u001b[0m \u001b[38;5;28mprint\u001b[39m(A,T)\n\u001b[0;32m      2\u001b[0m \u001b[38;5;28mprint\u001b[39m(B,T)\n",
      "\u001b[1;31mNameError\u001b[0m: name 'T' is not defined"
     ]
    }
   ],
   "source": [
    "print(A,T)\n",
    "print(B,T)\n"
   ]
  },
  {
   "cell_type": "code",
   "execution_count": null,
   "id": "00d4a324-7fd2-4a06-b06b-1e35afe7afcf",
   "metadata": {},
   "outputs": [],
   "source": [
    "#accessing the array elements\n",
    "a4 = np.array([[3,4,5],[7,2,8],[9,1,6],[10,9,18]])\n",
    "a4"
   ]
  },
  {
   "cell_type": "code",
   "execution_count": null,
   "id": "ee040070-b51d-417d-a953-a4063eab1beb",
   "metadata": {},
   "outputs": [],
   "source": [
    "#slicing of array\n",
    "a4[1:3,2:2]"
   ]
  }
 ],
 "metadata": {
  "kernelspec": {
   "display_name": "Python 3 (ipykernel)",
   "language": "python",
   "name": "python3"
  },
  "language_info": {
   "codemirror_mode": {
    "name": "ipython",
    "version": 3
   },
   "file_extension": ".py",
   "mimetype": "text/x-python",
   "name": "python",
   "nbconvert_exporter": "python",
   "pygments_lexer": "ipython3",
   "version": "3.12.7"
  }
 },
 "nbformat": 4,
 "nbformat_minor": 5
}
